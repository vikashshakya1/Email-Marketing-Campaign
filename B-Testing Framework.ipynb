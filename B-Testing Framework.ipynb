{
 "cells": [
  {
   "cell_type": "code",
   "execution_count": 2,
   "id": "1889d3b8",
   "metadata": {},
   "outputs": [
    {
     "name": "stdout",
     "output_type": "stream",
     "text": [
      "Group A (Control) size: 49934\n",
      "Group B (Treatment) size: 50066\n",
      "CTR Metrics:\n",
      "       group  total_emails_sent  clicks    CTR\n",
      "0    Control              10000     227   2.27\n",
      "1  Treatment               5000     500  10.00\n",
      "\n",
      "Chi-Square Statistic: 381.4514658532239, p-value: 6.011126757549432e-85\n",
      "\n",
      "The difference in CTR is statistically significant.\n"
     ]
    }
   ],
   "source": [
    "import pandas as pd\n",
    "import numpy as np\n",
    "from scipy.stats import chi2_contingency\n",
    "\n",
    "# Step 1: Define and Split Audience\n",
    "def split_audience(file_name):\n",
    "    # Load user data\n",
    "    user_data = pd.read_csv(file_name)\n",
    "\n",
    "    # Randomly split users into Group A (Control) and Group B (Treatment)\n",
    "    np.random.seed(42)\n",
    "    user_data['group'] = np.random.choice(['Control', 'Treatment'], size=len(user_data), p=[0.5, 0.5])\n",
    "\n",
    "    # Save datasets for each group\n",
    "    group_a = user_data[user_data['group'] == 'Control']\n",
    "    group_b = user_data[user_data['group'] == 'Treatment']\n",
    "\n",
    "    # Save the groups as CSV files\n",
    "    group_a.to_csv(\"group_a_control.csv\", index=False)\n",
    "    group_b.to_csv(\"group_b_treatment.csv\", index=False)\n",
    "\n",
    "    print(f\"Group A (Control) size: {len(group_a)}\")\n",
    "    print(f\"Group B (Treatment) size: {len(group_b)}\")\n",
    "\n",
    "\n",
    "# Step 2: Analyze A/B Test Results\n",
    "def analyze_results(metrics_file):\n",
    "    # Load engagement metrics\n",
    "    metrics = pd.read_csv(metrics_file)\n",
    "\n",
    "    # Calculate CTR for each group\n",
    "    metrics['CTR'] = (metrics['clicks'] / metrics['total_emails_sent']) * 100\n",
    "\n",
    "    # Print CTR for both groups\n",
    "    print(\"CTR Metrics:\")\n",
    "    print(metrics)\n",
    "\n",
    "    # Perform Chi-Square Test\n",
    "    contingency_table = [\n",
    "        metrics[metrics['group'] == 'Control'][['clicks', 'total_emails_sent']].values[0],\n",
    "        metrics[metrics['group'] == 'Treatment'][['clicks', 'total_emails_sent']].values[0]\n",
    "    ]\n",
    "    chi2, p, _, _ = chi2_contingency(contingency_table)\n",
    "\n",
    "    print(f\"\\nChi-Square Statistic: {chi2}, p-value: {p}\")\n",
    "\n",
    "    # Check statistical significance\n",
    "    if p < 0.05:\n",
    "        print(\"\\nThe difference in CTR is statistically significant.\")\n",
    "    else:\n",
    "        print(\"\\nThe difference in CTR is not statistically significant.\")\n",
    "\n",
    "\n",
    "# Example Usage:\n",
    "# Step 1: Split Audience\n",
    "# Replace 'your_dataset.csv' with your actual dataset file\n",
    "split_audience('email_table_with_opened_clicked.csv')\n",
    "\n",
    "# Step 2: Analyze A/B Test Results\n",
    "# Replace 'email_engagement_metrics.csv' with your actual metrics file\n",
    "analyze_results('email_engagement_metrics.csv')"
   ]
  },
  {
   "cell_type": "markdown",
   "id": "6477b4ec",
   "metadata": {},
   "source": [
    "# Results Summary\n",
    "\n",
    "## Group Sizes:\n",
    "- **Group A (Control):** 49,934 users  \n",
    "- **Group B (Treatment):** 50,066 users  \n",
    "\n",
    "## CTR Metrics:\n",
    "- **Control Group CTR:** 2.27%  \n",
    "- **Treatment Group CTR:** 10.00%  \n",
    "\n",
    "## Statistical Analysis:\n",
    "- **Chi-Square Statistic:** 381.45  \n",
    "- **p-value:** 6.01  \n",
    "\n",
    "## Conclusion:\n",
    "The difference in CTR between the Control and Treatment groups is statistically significant (**p < 0.05**).  \n",
    "This indicates that the predictive model used for the Treatment group has a substantial positive impact on the click-through rate (CTR).\n",
    "\n",
    "---"
   ]
  }
 ],
 "metadata": {
  "kernelspec": {
   "display_name": "Python 3",
   "language": "python",
   "name": "python3"
  },
  "language_info": {
   "codemirror_mode": {
    "name": "ipython",
    "version": 3
   },
   "file_extension": ".py",
   "mimetype": "text/x-python",
   "name": "python",
   "nbconvert_exporter": "python",
   "pygments_lexer": "ipython3",
   "version": "3.12.10"
  }
 },
 "nbformat": 4,
 "nbformat_minor": 5
}
